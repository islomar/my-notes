{
 "cells": [
  {
   "cell_type": "markdown",
   "id": "7a34fb7e",
   "metadata": {},
   "source": [
    "# Lesson 9: Creating and Deploying Remote Servers "
   ]
  },
  {
   "cell_type": "markdown",
   "id": "01d0d951-fc0a-4184-99a4-8a16c68fa73a",
   "metadata": {},
   "source": [
    "In the previous lessons, you worked with servers running locally using `stdio` transport. In this lesson, you will learn how to create a remote server using `FastMCP`, test it using MCP inspector and then learn how to deploy it on `render.com`.\n",
    "\n",
    "You will focus on the `sse` transport. When the course was filmed, the python `sdk` for `Streamable HTTP` was in active development. However, this lesson will still give you insights into what a remote server is. We included notes for how the server implementation would be different with `Streamable HTTP` (slight changes since `FastMCP` provides you with a high-level interface)."
   ]
  },
  {
   "cell_type": "markdown",
   "id": "4b5a513a",
   "metadata": {},
   "source": [
    "## Creating an SSE Remote Server"
   ]
  },
  {
   "cell_type": "markdown",
   "id": "ad158513-4040-4db3-9ad0-c8cb442b2ffe",
   "metadata": {},
   "source": [
    "With `FastMCP`, it's also easy to create an SSE remote server. You just need to specify that the transport is `sse` when running the server. You can also specify the port number when initializing the FastMCP server. The remaining tool, prompt and resource definitions are all the same. So the following code for the MCP server is the same code you saw in Lesson 7. The transport is specified at the end, and the port number of `8001` is specified in the `FastMCP` constructor (you may also decide to choose the default port as well). "
   ]
  },
  {
   "cell_type": "code",
   "execution_count": null,
   "id": "501238f4-0609-4222-9092-ed5bd31987d6",
   "metadata": {},
   "outputs": [],
   "source": [
    "%%writefile mcp_project/research_server.py\n",
    "import arxiv\n",
    "import json\n",
    "import os\n",
    "from typing import List\n",
    "from mcp.server.fastmcp import FastMCP\n",
    "\n",
    "PAPER_DIR = \"papers\"\n",
    "\n",
    "# Initialize FastMCP server\n",
    "mcp = FastMCP(\"research\", port=8001)\n",
    "\n",
    "@mcp.tool()\n",
    "def search_papers(topic: str, max_results: int = 5) -> List[str]:\n",
    "    \"\"\"\n",
    "    Search for papers on arXiv based on a topic and store their information.\n",
    "    \n",
    "    Args:\n",
    "        topic: The topic to search for\n",
    "        max_results: Maximum number of results to retrieve (default: 5)\n",
    "        \n",
    "    Returns:\n",
    "        List of paper IDs found in the search\n",
    "    \"\"\"\n",
    "    \n",
    "    # Use arxiv to find the papers \n",
    "    client = arxiv.Client()\n",
    "\n",
    "    # Search for the most relevant articles matching the queried topic\n",
    "    search = arxiv.Search(\n",
    "        query = topic,\n",
    "        max_results = max_results,\n",
    "        sort_by = arxiv.SortCriterion.Relevance\n",
    "    )\n",
    "\n",
    "    papers = client.results(search)\n",
    "    \n",
    "    # Create directory for this topic\n",
    "    path = os.path.join(PAPER_DIR, topic.lower().replace(\" \", \"_\"))\n",
    "    os.makedirs(path, exist_ok=True)\n",
    "    \n",
    "    file_path = os.path.join(path, \"papers_info.json\")\n",
    "\n",
    "    # Try to load existing papers info\n",
    "    try:\n",
    "        with open(file_path, \"r\") as json_file:\n",
    "            papers_info = json.load(json_file)\n",
    "    except (FileNotFoundError, json.JSONDecodeError):\n",
    "        papers_info = {}\n",
    "\n",
    "    # Process each paper and add to papers_info  \n",
    "    paper_ids = []\n",
    "    for paper in papers:\n",
    "        paper_ids.append(paper.get_short_id())\n",
    "        paper_info = {\n",
    "            'title': paper.title,\n",
    "            'authors': [author.name for author in paper.authors],\n",
    "            'summary': paper.summary,\n",
    "            'pdf_url': paper.pdf_url,\n",
    "            'published': str(paper.published.date())\n",
    "        }\n",
    "        papers_info[paper.get_short_id()] = paper_info\n",
    "    \n",
    "    # Save updated papers_info to json file\n",
    "    with open(file_path, \"w\") as json_file:\n",
    "        json.dump(papers_info, json_file, indent=2)\n",
    "    \n",
    "    print(f\"Results are saved in: {file_path}\")\n",
    "    \n",
    "    return paper_ids\n",
    "\n",
    "@mcp.tool()\n",
    "def extract_info(paper_id: str) -> str:\n",
    "    \"\"\"\n",
    "    Search for information about a specific paper across all topic directories.\n",
    "    \n",
    "    Args:\n",
    "        paper_id: The ID of the paper to look for\n",
    "        \n",
    "    Returns:\n",
    "        JSON string with paper information if found, error message if not found\n",
    "    \"\"\"\n",
    " \n",
    "    for item in os.listdir(PAPER_DIR):\n",
    "        item_path = os.path.join(PAPER_DIR, item)\n",
    "        if os.path.isdir(item_path):\n",
    "            file_path = os.path.join(item_path, \"papers_info.json\")\n",
    "            if os.path.isfile(file_path):\n",
    "                try:\n",
    "                    with open(file_path, \"r\") as json_file:\n",
    "                        papers_info = json.load(json_file)\n",
    "                        if paper_id in papers_info:\n",
    "                            return json.dumps(papers_info[paper_id], indent=2)\n",
    "                except (FileNotFoundError, json.JSONDecodeError) as e:\n",
    "                    print(f\"Error reading {file_path}: {str(e)}\")\n",
    "                    continue\n",
    "    \n",
    "    return f\"There's no saved information related to paper {paper_id}.\"\n",
    "\n",
    "\n",
    "\n",
    "@mcp.resource(\"papers://folders\")\n",
    "def get_available_folders() -> str:\n",
    "    \"\"\"\n",
    "    List all available topic folders in the papers directory.\n",
    "    \n",
    "    This resource provides a simple list of all available topic folders.\n",
    "    \"\"\"\n",
    "    folders = []\n",
    "    \n",
    "    # Get all topic directories\n",
    "    if os.path.exists(PAPER_DIR):\n",
    "        for topic_dir in os.listdir(PAPER_DIR):\n",
    "            topic_path = os.path.join(PAPER_DIR, topic_dir)\n",
    "            if os.path.isdir(topic_path):\n",
    "                papers_file = os.path.join(topic_path, \"papers_info.json\")\n",
    "                if os.path.exists(papers_file):\n",
    "                    folders.append(topic_dir)\n",
    "    \n",
    "    # Create a simple markdown list\n",
    "    content = \"# Available Topics\\n\\n\"\n",
    "    if folders:\n",
    "        for folder in folders:\n",
    "            content += f\"- {folder}\\n\"\n",
    "        content += f\"\\nUse @{folder} to access papers in that topic.\\n\"\n",
    "    else:\n",
    "        content += \"No topics found.\\n\"\n",
    "    \n",
    "    return content\n",
    "\n",
    "@mcp.resource(\"papers://{topic}\")\n",
    "def get_topic_papers(topic: str) -> str:\n",
    "    \"\"\"\n",
    "    Get detailed information about papers on a specific topic.\n",
    "    \n",
    "    Args:\n",
    "        topic: The research topic to retrieve papers for\n",
    "    \"\"\"\n",
    "    topic_dir = topic.lower().replace(\" \", \"_\")\n",
    "    papers_file = os.path.join(PAPER_DIR, topic_dir, \"papers_info.json\")\n",
    "    \n",
    "    if not os.path.exists(papers_file):\n",
    "        return f\"# No papers found for topic: {topic}\\n\\nTry searching for papers on this topic first.\"\n",
    "    \n",
    "    try:\n",
    "        with open(papers_file, 'r') as f:\n",
    "            papers_data = json.load(f)\n",
    "        \n",
    "        # Create markdown content with paper details\n",
    "        content = f\"# Papers on {topic.replace('_', ' ').title()}\\n\\n\"\n",
    "        content += f\"Total papers: {len(papers_data)}\\n\\n\"\n",
    "        \n",
    "        for paper_id, paper_info in papers_data.items():\n",
    "            content += f\"## {paper_info['title']}\\n\"\n",
    "            content += f\"- **Paper ID**: {paper_id}\\n\"\n",
    "            content += f\"- **Authors**: {', '.join(paper_info['authors'])}\\n\"\n",
    "            content += f\"- **Published**: {paper_info['published']}\\n\"\n",
    "            content += f\"- **PDF URL**: [{paper_info['pdf_url']}]({paper_info['pdf_url']})\\n\\n\"\n",
    "            content += f\"### Summary\\n{paper_info['summary'][:500]}...\\n\\n\"\n",
    "            content += \"---\\n\\n\"\n",
    "        \n",
    "        return content\n",
    "    except json.JSONDecodeError:\n",
    "        return f\"# Error reading papers data for {topic}\\n\\nThe papers data file is corrupted.\"\n",
    "\n",
    "@mcp.prompt()\n",
    "def generate_search_prompt(topic: str, num_papers: int = 5) -> str:\n",
    "    \"\"\"Generate a prompt for Claude to find and discuss academic papers on a specific topic.\"\"\"\n",
    "    return f\"\"\"Search for {num_papers} academic papers about '{topic}' using the search_papers tool. \n",
    "\n",
    "    Follow these instructions:\n",
    "    1. First, search for papers using search_papers(topic='{topic}', max_results={num_papers})\n",
    "    2. For each paper found, extract and organize the following information:\n",
    "       - Paper title\n",
    "       - Authors\n",
    "       - Publication date\n",
    "       - Brief summary of the key findings\n",
    "       - Main contributions or innovations\n",
    "       - Methodologies used\n",
    "       - Relevance to the topic '{topic}'\n",
    "    \n",
    "    3. Provide a comprehensive summary that includes:\n",
    "       - Overview of the current state of research in '{topic}'\n",
    "       - Common themes and trends across the papers\n",
    "       - Key research gaps or areas for future investigation\n",
    "       - Most impactful or influential papers in this area\n",
    "    \n",
    "    4. Organize your findings in a clear, structured format with headings and bullet points for easy readability.\n",
    "    \n",
    "    Please present both detailed information about each paper and a high-level synthesis of the research landscape in {topic}.\"\"\"\n",
    "\n",
    "if __name__ == \"__main__\":\n",
    "    # Initialize and run the server\n",
    "    mcp.run(transport='sse')"
   ]
  },
  {
   "cell_type": "markdown",
   "id": "ee3c8c5c-2b04-4a73-aaff-0f98c5594b5c",
   "metadata": {},
   "source": [
    "**Streamable HTTP**: \n",
    "You can also use FastMCP to create a remote server using the transport \"Streamable HTTP\". The code would be again the same for tool, resource and prompt definitions. But when you run the server, you specify the transport as:\n",
    "\n",
    "```python\n",
    "mcp.run(transport=\"streamable-http\")\n",
    "```\n",
    " And when you initiate the FastMCP server you have two options:\n",
    "\n",
    "```python\n",
    "# Stateful server (maintains session state)\n",
    "mcp = FastMCP(\"research\")\n",
    "\n",
    "# Stateless server (no session persistence)\n",
    "mcp = FastMCP(\"research\", stateless_http=True)\n",
    "```\n",
    "\n",
    "Stateless can be used when you want the server to handle simple, independent requests (no memory of previous interactions with the same client). Stateful can be used when you want the server to handle multiple requests that are part of a workflow and you want the server to remember the Client information and context across multiple requests."
   ]
  },
  {
   "cell_type": "markdown",
   "id": "eda9378b",
   "metadata": {},
   "source": [
    "## Testing the SSE Remote Server"
   ]
  },
  {
   "cell_type": "markdown",
   "id": "fe57c66b",
   "metadata": {},
   "source": [
    "After you create the python file for your remote server, you can test it using the MCP inspector or the simple chatbot of lesson 5, you can also integrate it with the chatbot of lesson 7. In order to test it, you first need to launch it to get its `URL` and then provide the `URL` to the chatbot or MCP inspector. \n",
    "\n",
    "**Note**: A server using the `stdio` transport is launched as a subprocess by the MCP client. On the other hand, a remote server is an independent processes running separately from the client and needs to be already running before the MCP client connects to it."
   ]
  },
  {
   "cell_type": "markdown",
   "id": "0c3e3492",
   "metadata": {},
   "source": [
    "\n",
    "### How to run and test it on your local machine? - Optional Reading"
   ]
  },
  {
   "cell_type": "markdown",
   "id": "cf119130-6071-4129-afd7-5cadc225e171",
   "metadata": {},
   "source": [
    "You would need first to create and prepare a separate environment for the remote server. You can follow the same steps you learned about in the previous lessons:\n",
    "- initiate the folder using `uv init`,\n",
    "- create a virtual environment and activate it,\n",
    "- add the required dependencies (`uv add arxiv mcp`).\n",
    "\n",
    "You can then open a terminal and run your server using (`uv run research_server.py`), you'd need to keep the terminal open for the server to keep on running. You'll get a message in the terminal that the server is running at a given address. The `URL` that you would need to provide to the inspector or chatbot is that address with the appended `/sse` at the end. In a second terminal, you can launch the MCP inspector or your chatbot. Please check the comments below on how you can update the MCP chatbot. \n",
    "\n",
    "**Streamable HTPP**: same process for everything. For the `URL`, you would need to append `/mcp/` instead of `/sse`."
   ]
  },
  {
   "cell_type": "markdown",
   "id": "f4bb3a47-15be-4d87-b89e-760f1678dd59",
   "metadata": {},
   "source": [
    "### Testing the server with MCP Inspector in this Lab"
   ]
  },
  {
   "cell_type": "markdown",
   "id": "6d725b5b-0356-47f7-a780-b528acc36613",
   "metadata": {},
   "source": [
    "#### URL Link to the Remote server"
   ]
  },
  {
   "cell_type": "markdown",
   "id": "7622f782-7743-408f-b966-26b5428dd158",
   "metadata": {},
   "source": [
    "In this lesson, you won't need to launch the remote server on your own. It's already provided to you; the remote server is already up and running in a separate container at port 8001. Run the next cell to get its URL. You'd need to use this URL to test the server in the MCP inspector. \n",
    "\n",
    "**Note**: If you'd like to learn how to run the MCP server in a docker container, please check the Appendix at the end of this course."
   ]
  },
  {
   "cell_type": "code",
   "execution_count": null,
   "id": "8e07e340",
   "metadata": {},
   "outputs": [],
   "source": [
    "import os \n",
    "print(\"Remote server is running at:\")\n",
    "print(os.environ.get('DLAI_LOCAL_URL').format(port=8001)+\"sse\")"
   ]
  },
  {
   "cell_type": "markdown",
   "id": "69e96aea-53b3-4102-91f5-ad1010d645cb",
   "metadata": {},
   "source": [
    "#### Testing the Provided Remote Server using MCP Inspector"
   ]
  },
  {
   "cell_type": "markdown",
   "id": "60f8fae8",
   "metadata": {},
   "source": [
    "**Terminal Instructions**"
   ]
  },
  {
   "cell_type": "markdown",
   "id": "24309c15",
   "metadata": {},
   "source": [
    "- To open the terminal, run the cell below.\n",
    "  - The terminal might show the `work` directory or `L4/mcp_project`. You can stay in any directory, you don't need to navigate to `L9/mcp_project`. That's because you'll test a remote server that is already up and running, so you can launch the inspector from any directory.\n",
    "  - If the terminal shows `L4/mcp_project` and you still have the inspector open from L4, you can close it by typing `CTRL+C` and then launch it again.\n",
    "- To launch the inspector, type in the terminal: `npx @modelcontextprotocol/inspector`\n",
    "  - If you get a message asking \"need to install the following packages\", type: `y`\n",
    "- You will get a message saying that the inspector is up and running at a specific address. To open the inspector, click on that given address. The inspector will open in another tab.\n",
    "- Please check the \"Inspector UI Instructions\" below.\n",
    "- Once you're done with the inspector UI, make sure to close the inspector by typing `Ctrl+C` in the terminal below."
   ]
  },
  {
   "cell_type": "markdown",
   "id": "869e71fd",
   "metadata": {},
   "source": [
    "**Note**: The server is running in a different environment, and there are no topics saved under papers in the server's environment, so when you check the resources in the MCP inspector, you will get that there are no resources. "
   ]
  },
  {
   "cell_type": "code",
   "execution_count": null,
   "id": "c1b6fff4-3356-4e89-a06e-2c96c12053f2",
   "metadata": {},
   "outputs": [],
   "source": [
    "# start a new terminal\n",
    "from IPython.display import IFrame\n",
    "\n",
    "IFrame(f\"{os.environ.get('DLAI_LOCAL_URL').format(port=8888)}terminals/1\", width=600, height=768)"
   ]
  },
  {
   "cell_type": "markdown",
   "id": "8d217492-a766-4750-be96-447582279f72",
   "metadata": {},
   "source": [
    "**Inspector UI Instructions**"
   ]
  },
  {
   "cell_type": "markdown",
   "id": "68d6a29c-a5ce-470b-8038-caa66ff767af",
   "metadata": {},
   "source": [
    "In the inspector UI, make sure you have:\n",
    "\n",
    "<img src=\"images/inspector2.png\" height=\"300\">\n",
    "\n",
    "1.  `SSE` under `Transport Type`\n",
    "2.  The URL of the remote server under `URL` (this is the link that ends with `sse`, the output of the cell you run before the terminal)\n",
    "3.  Under configuration, you have to specify the \"Inspector Proxy Address\":\n",
    "      - Run the following cell and copy the output address and paste it under \"Inspector Proxy Address\" in the inspector UI. Note: if you're running the inspector locally on your machine, you don't need to worry about this step."
   ]
  },
  {
   "cell_type": "code",
   "execution_count": null,
   "id": "5cf41759-d8ab-4a30-a22f-35790622238f",
   "metadata": {},
   "outputs": [],
   "source": [
    "# Print the inspector proxy address\n",
    "print(\"Inspector Proxy Address that you need to specify under configuration in the inspector UI:\")\n",
    "print(os.environ.get('DLAI_LOCAL_URL').format(port=6277)[:-1])"
   ]
  },
  {
   "cell_type": "markdown",
   "id": "7074b5c8-cfef-4bb8-af17-75f971cd307e",
   "metadata": {},
   "source": [
    "#### Optional Note - How to Update the MCP chatbot so it can connect to a remote server?"
   ]
  },
  {
   "cell_type": "markdown",
   "id": "918248ea-d1c0-4698-ac33-28d291dd262a",
   "metadata": {},
   "source": [
    "You used `stdio_client` from the Python sdk to connect to the local server over `stdio`. The Python sdk provides another client `sse_client` that you can use to connect to a remote server over `sse`.  \n",
    "First, you'd need to import `sse_client`:\n",
    "```python\n",
    "from mcp.client.sse import sse_client\n",
    "\n",
    "```\n",
    "\n",
    "Then in `connect_to_server`, you can use the same code, but instead of using `stdio_client`, you can use `sse_client` and pass to it the server url.\n",
    "\n",
    "```python\n",
    "sse_transport = await self.exit_stack.enter_async_context(\n",
    "                   sse_client(url= \"server_url/sse\" )\n",
    "                )\n",
    "read, write = sse_transport \n",
    "```\n",
    "The rest of the code should be the same.\n",
    "\n",
    "**Stremable http client**\n",
    "\n",
    "And if your remote server is running over `streamable http`, then you can similarly use the `streamablehttp_client`\n",
    "\n",
    "``` python\n",
    "from mcp.client.streamable_http import streamablehttp_client\n",
    "streamable_transport = await self.exit_stack.enter_async_context(\n",
    "                   streamablehttp_client(url= \"server_url/mcp/\" )\n",
    "                )\n",
    "read, write = streamable_transport \n",
    "```\n"
   ]
  },
  {
   "cell_type": "markdown",
   "id": "42e807be",
   "metadata": {},
   "source": [
    "## Optional - Deploying an SSE Server Using Render.com "
   ]
  },
  {
   "cell_type": "markdown",
   "id": "1c5a4612",
   "metadata": {},
   "source": [
    "This part is optional and for you to explore on your local machine. If you'd like to try it, you can follow the instructions in the video. Make sure first to create an account at render [here](https://dashboard.render.com/login) using your Github account. "
   ]
  },
  {
   "cell_type": "markdown",
   "id": "fb280936-286b-4ff9-a208-f854c66bf46c",
   "metadata": {},
   "source": [
    "## Resources"
   ]
  },
  {
   "cell_type": "markdown",
   "id": "1274715b-ea96-47d2-8d37-e2216e274942",
   "metadata": {},
   "source": [
    "- Deploy Remote MCP servers on CloudFlare [link](https://developers.cloudflare.com/agents/guides/remote-mcp-server/)\n",
    "- Streamable HTTP transport [link](https://github.com/modelcontextprotocol/python-sdk/blob/main/README.md#streamable-http-transport)\n",
    "- For low level server with Streamable HTTP implementations, see:\n",
    "    - Stateful server: [examples](https://github.com/modelcontextprotocol/python-sdk/tree/main/examples/servers/simple-streamablehttp)\n",
    "    - Stateless server: [examples](https://github.com/modelcontextprotocol/python-sdk/tree/main/examples/servers/simple-streamablehttp-stateless)"
   ]
  }
 ],
 "metadata": {
  "kernelspec": {
   "display_name": "Python 3 (ipykernel)",
   "language": "python",
   "name": "python3"
  },
  "language_info": {
   "codemirror_mode": {
    "name": "ipython",
    "version": 3
   },
   "file_extension": ".py",
   "mimetype": "text/x-python",
   "name": "python",
   "nbconvert_exporter": "python",
   "pygments_lexer": "ipython3",
   "version": "3.10.11"
  }
 },
 "nbformat": 4,
 "nbformat_minor": 5
}
