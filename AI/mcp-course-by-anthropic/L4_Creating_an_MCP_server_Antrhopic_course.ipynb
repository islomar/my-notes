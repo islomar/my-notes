{
 "cells": [
  {
   "cell_type": "markdown",
   "id": "d7775637-f5c6-4794-8fc6-11ef56381af9",
   "metadata": {},
   "source": [
    "# Lesson 4: Creating an MCP Server"
   ]
  },
  {
   "cell_type": "markdown",
   "id": "0baf214c-08f1-4aaf-a798-abfd95ef84a1",
   "metadata": {},
   "source": [
    "In this lesson, you will wrap the tools of the chatbot of the previous lesson, to build an MCP server that exposes 2 tools. You will use here the `stdio` transport and run the server in the provided local environment. You will learn more about remote servers in another lesson."
   ]
  },
  {
   "cell_type": "markdown",
   "id": "9f1319da",
   "metadata": {},
   "source": [
    "## How can you create an MCP Server? - *Additional Note*"
   ]
  },
  {
   "cell_type": "markdown",
   "id": "e65a6835",
   "metadata": {},
   "source": [
    "Let's take the example of a server that exposes tools. This server needs to handle two main requests from the client:\n",
    "- listing all the tools\n",
    "  \n",
    "   <img src=\"images/server_list_tools.png\" width=\"400\">\n",
    "\n",
    "- executing a particular tool\n",
    "  \n",
    "  <img src=\"images/server_call_tool.png\" width=\"400\">"
   ]
  },
  {
   "cell_type": "markdown",
   "id": "e4c44bfe",
   "metadata": {},
   "source": [
    "There are two ways for creating an MCP server:\n",
    "- **low-level implementation**: in this approach, you directly define and handle the various types of requests (`ListToolsRequest` and `CallToolRequest`). This approach allows you to customize every aspect of your server.\n",
    "- **high-level implementation using `FastMCP`**: `FastMCP` is a high-level interface that makes building MCP servers faster and simpler. In this approach, you just focus on defining the tools as functions, and`FastMCP` handles all the protocol details.\n",
    "  \n",
    "You will use in this lesson `FastMCP`. If you'd like to learn more about the low-level approach, you can check out the resources at the end of this notebook."
   ]
  },
  {
   "cell_type": "markdown",
   "id": "1918e37d-deec-4aea-b7db-b17a67c7d723",
   "metadata": {},
   "source": [
    "## Building your MCP Server using `FastMCP`"
   ]
  },
  {
   "cell_type": "markdown",
   "id": "f98be372",
   "metadata": {},
   "source": [
    "You will build the files needed for your MCP server in the folder `mcp_project`. You will incrementally add or update more files to this project folder in the upcoming lessons. The `mcp_project` folder is provided to you. You will first create the python file of the server `research_server.py` and save it in  `mcp_project` folder, then you'll prepare the environment to run the server."
   ]
  },
  {
   "cell_type": "markdown",
   "id": "669d1d32",
   "metadata": {},
   "source": [
    "<div style=\"background-color:#fff6ff; padding:13px; border-width:3px; border-color:#efe6ef; border-style:solid; border-radius:6px\">\n",
    "<p> 💻 &nbsp; <b> To Access the  <code>mcp_project</code> folder :</b> 1) click on the <em>\"File\"</em> option on the top menu of the notebook and then 2) click on <em>\"Open\"</em> and finally 3) click on <em>L4</em>.\n",
    "</div>"
   ]
  },
  {
   "cell_type": "markdown",
   "id": "cc1975ae-1c7f-4a2d-9571-969c45337fc9",
   "metadata": {},
   "source": [
    "To create your MCP server using `FastMCP`, you will initialize a `FastMCP` server labeled as `mcp` and decorating the functions with `@mcp.tool()`. `FastMCP` automatically generates the necessary MCP schema based on type hints and docstrings.\n",
    "\n",
    "\n",
    "**Note**: The magic function `%%writefile mcp_project/research_server.py` will not execute the code but it will save the content of the cell to the server file `research_server.py` in the directory: `mcp_project`. If you remove the magic function and run the cell, the code won't run in Jupyter notebook. You will run the server from the terminal in the next section. "
   ]
  },
  {
   "cell_type": "code",
   "execution_count": null,
   "id": "e64a875d-d5f0-4e97-9df7-3d8863d65466",
   "metadata": {},
   "outputs": [],
   "source": [
    "%%writefile mcp_project/research_server.py\n",
    "\n",
    "import arxiv\n",
    "import json\n",
    "import os\n",
    "from typing import List\n",
    "from mcp.server.fastmcp import FastMCP\n",
    "\n",
    "\n",
    "PAPER_DIR = \"papers\"\n",
    "\n",
    "# Initialize FastMCP server\n",
    "mcp = FastMCP(\"research\")\n",
    "\n",
    "@mcp.tool()\n",
    "def search_papers(topic: str, max_results: int = 5) -> List[str]:\n",
    "    \"\"\"\n",
    "    Search for papers on arXiv based on a topic and store their information.\n",
    "    \n",
    "    Args:\n",
    "        topic: The topic to search for\n",
    "        max_results: Maximum number of results to retrieve (default: 5)\n",
    "        \n",
    "    Returns:\n",
    "        List of paper IDs found in the search\n",
    "    \"\"\"\n",
    "    \n",
    "    # Use arxiv to find the papers \n",
    "    client = arxiv.Client()\n",
    "\n",
    "    # Search for the most relevant articles matching the queried topic\n",
    "    search = arxiv.Search(\n",
    "        query = topic,\n",
    "        max_results = max_results,\n",
    "        sort_by = arxiv.SortCriterion.Relevance\n",
    "    )\n",
    "\n",
    "    papers = client.results(search)\n",
    "    \n",
    "    # Create directory for this topic\n",
    "    path = os.path.join(PAPER_DIR, topic.lower().replace(\" \", \"_\"))\n",
    "    os.makedirs(path, exist_ok=True)\n",
    "    \n",
    "    file_path = os.path.join(path, \"papers_info.json\")\n",
    "\n",
    "    # Try to load existing papers info\n",
    "    try:\n",
    "        with open(file_path, \"r\") as json_file:\n",
    "            papers_info = json.load(json_file)\n",
    "    except (FileNotFoundError, json.JSONDecodeError):\n",
    "        papers_info = {}\n",
    "\n",
    "    # Process each paper and add to papers_info  \n",
    "    paper_ids = []\n",
    "    for paper in papers:\n",
    "        paper_ids.append(paper.get_short_id())\n",
    "        paper_info = {\n",
    "            'title': paper.title,\n",
    "            'authors': [author.name for author in paper.authors],\n",
    "            'summary': paper.summary,\n",
    "            'pdf_url': paper.pdf_url,\n",
    "            'published': str(paper.published.date())\n",
    "        }\n",
    "        papers_info[paper.get_short_id()] = paper_info\n",
    "    \n",
    "    # Save updated papers_info to json file\n",
    "    with open(file_path, \"w\") as json_file:\n",
    "        json.dump(papers_info, json_file, indent=2)\n",
    "    \n",
    "    print(f\"Results are saved in: {file_path}\")\n",
    "    \n",
    "    return paper_ids\n",
    "\n",
    "@mcp.tool()\n",
    "def extract_info(paper_id: str) -> str:\n",
    "    \"\"\"\n",
    "    Search for information about a specific paper across all topic directories.\n",
    "    \n",
    "    Args:\n",
    "        paper_id: The ID of the paper to look for\n",
    "        \n",
    "    Returns:\n",
    "        JSON string with paper information if found, error message if not found\n",
    "    \"\"\"\n",
    " \n",
    "    for item in os.listdir(PAPER_DIR):\n",
    "        item_path = os.path.join(PAPER_DIR, item)\n",
    "        if os.path.isdir(item_path):\n",
    "            file_path = os.path.join(item_path, \"papers_info.json\")\n",
    "            if os.path.isfile(file_path):\n",
    "                try:\n",
    "                    with open(file_path, \"r\") as json_file:\n",
    "                        papers_info = json.load(json_file)\n",
    "                        if paper_id in papers_info:\n",
    "                            return json.dumps(papers_info[paper_id], indent=2)\n",
    "                except (FileNotFoundError, json.JSONDecodeError) as e:\n",
    "                    print(f\"Error reading {file_path}: {str(e)}\")\n",
    "                    continue\n",
    "    \n",
    "    return f\"There's no saved information related to paper {paper_id}.\"\n",
    "\n",
    "\n",
    "\n",
    "if __name__ == \"__main__\":\n",
    "    # Initialize and run the server\n",
    "    mcp.run(transport='stdio')"
   ]
  },
  {
   "cell_type": "markdown",
   "id": "3583848c-9fab-4408-8114-30262b6d50a0",
   "metadata": {},
   "source": [
    "## Setting up your Environment & Testing your Server"
   ]
  },
  {
   "cell_type": "markdown",
   "id": "eda041e2-3c71-4b9a-923a-89ab7c9a0b1f",
   "metadata": {},
   "source": [
    "You'll now set up the environment that you will use to run and test the server. For that, you will use the `uv` tool, which helps you manage your Python environment: it automatically sets up the project files and manages the package dependencies."
   ]
  },
  {
   "cell_type": "markdown",
   "id": "4fd63602",
   "metadata": {},
   "source": [
    "**Terminal Instructions**"
   ]
  },
  {
   "cell_type": "markdown",
   "id": "3c0865b5",
   "metadata": {},
   "source": [
    "- To open the terminal, run the cell below.\n",
    "- Navigate to the project directory and initiate it with `uv`:\n",
    "    - `cd L4/mcp_project`\n",
    "    - `uv init`\n",
    "-  Create virtual environment and activate it:\n",
    "    - `uv venv`\n",
    "    - `source .venv/bin/activate`\n",
    "- Install dependencies:\n",
    "    - `uv add mcp arxiv`\n",
    "- Launch the inspector:\n",
    "    - `npx @modelcontextprotocol/inspector uv run research_server.py`\n",
    "    - If you get a message asking \"need to install the following packages\", type: `y`\n",
    "- You will get a message saying that the inspector is up and running at a specific address. To open the inspector, click on that given address. The inspector will open in another tab.\n",
    "- In the inspector UI, make sure to follow the video. You would need to specify under configuration the `Inspector Proxy Address`. Please check the \"Inspector UI Instructions\" below and run the last cell (after the terminal) to get the `Inspector Proxy Address` for your configurations. \n",
    "- If you tested the tool and would like to access the `papers` folder: 1) click on the `File` option on the top menu of the notebook and 2) click on `Open` and then 3) click on `L4` -> `mcp_project`.\n",
    "- Once you're done with the inspector UI, make sure to close the inspector by typing `Ctrl+C` in the terminal below."
   ]
  },
  {
   "cell_type": "code",
   "execution_count": null,
   "id": "38b33fe4-36d7-464b-8056-a76e1e0219b7",
   "metadata": {},
   "outputs": [],
   "source": [
    "# start a new terminal\n",
    "import os\n",
    "from IPython.display import IFrame\n",
    "\n",
    "IFrame(f\"{os.environ.get('DLAI_LOCAL_URL').format(port=8888)}terminals/1\", \n",
    "       width=600, height=768)"
   ]
  },
  {
   "cell_type": "markdown",
   "id": "51faa344",
   "metadata": {},
   "source": [
    "### Inspector UI Instructions"
   ]
  },
  {
   "cell_type": "markdown",
   "id": "3b9c31b8",
   "metadata": {},
   "source": [
    "In the inspector UI, make sure you have:\n",
    "\n",
    "<img src=\"images/inspector2.png\" height=\"300\">\n",
    "\n",
    "1.  `uv` under command\n",
    "2.  `run research_server.py` under arguments\n",
    "3.  Under configuration, you have to specify the \"Inspector Proxy Address\":\n",
    "      - Run the following cell and copy the output address and paste it under \"Inspector Proxy Address\" in the inspector UI. **Note**: if you're running the inspector locally on your machine, you don't need to worry about this step."
   ]
  },
  {
   "cell_type": "code",
   "execution_count": null,
   "id": "30d6eb67-0c6f-4a4b-917d-e507aaa7e3ab",
   "metadata": {},
   "outputs": [],
   "source": [
    "# Print the inspector proxy address\n",
    "print(\"Inspector Proxy Address that you need to specify under configuration in the inspector UI:\")\n",
    "print(os.environ.get('DLAI_LOCAL_URL').format(port=6277)[:-1])"
   ]
  },
  {
   "cell_type": "markdown",
   "id": "0c8e5861-a3f2-4103-8a24-a7438f37753d",
   "metadata": {},
   "source": [
    "## Resources"
   ]
  },
  {
   "cell_type": "markdown",
   "id": "a692364b-a91a-4ad9-ba16-25b1c68872d1",
   "metadata": {},
   "source": [
    "- [Example of low-level server](https://github.com/modelcontextprotocol/python-sdk/blob/main/examples/servers/simple-tool/mcp_simple_tool/server.py)\n",
    "- [Advanced usage low-level server](https://github.com/modelcontextprotocol/python-sdk/blob/main/README.md#advanced-usage)\n",
    "- [MCP inspector](https://github.com/modelcontextprotocol/inspector)\n",
    "- [FastMCP](https://github.com/jlowin/fastmcp)\n",
    "- [Quickstart for server developpers](https://modelcontextprotocol.io/quickstart/server)"
   ]
  },
  {
   "cell_type": "markdown",
   "id": "d25b32f0",
   "metadata": {},
   "source": [
    "### How to replicate the work locally?\n",
    "\n",
    "- First make sure you have `uv` installed. You can check the installation methods [here](https://docs.astral.sh/uv/getting-started/installation/#pypi).\n",
    "- Second you need to make sure you have `Node.js` installed on your machine. This is needed to run packages written in  `Typescript` (like the MCP inspector and maybe other MCP servers that you may download to use in your app). For instructions, check [here](https://docs.npmjs.com/downloading-and-installing-node-js-and-npm)\n",
    "\n",
    "After you have these two installed, then you can create the `mcp_project` folder and follow the same steps. If you're using a `Windows` machine, the only step you need to modify is how to activate your virtual environment. Instead of `source .venv/bin/activate`, you would need to type: `.venv\\Scripts\\activate` without `source`."
   ]
  },
  {
   "cell_type": "markdown",
   "id": "87107d9b-3caf-4187-baf8-c141024969b0",
   "metadata": {},
   "source": [
    "<div style=\"background-color:#fff6ff; padding:13px; border-width:3px; border-color:#efe6ef; border-style:solid; border-radius:6px\">\n",
    "<p> 💻 &nbsp; <b> To Access the  <code>mcp_project</code> folder :</b> 1) click on the <em>\"File\"</em> option on the top menu of the notebook and then 2) click on <em>\"Open\"</em>.\n",
    "<p> ⬇ &nbsp; <b>To Download Notebooks:</b> 1) click on the <em>\"File\"</em> option on the top menu of the notebook and then 2) click on <em>\"Download as\"</em> and select <em>\"Notebook (.ipynb)\"</em>.</p>\n",
    "\n",
    "<p> 📒 &nbsp; For more help, please see the <em>\"Appendix – Tips, Help, and Download\"</em> Lesson.</p>\n",
    "\n",
    "</div>"
   ]
  }
 ],
 "metadata": {
  "kernelspec": {
   "display_name": "Python 3 (ipykernel)",
   "language": "python",
   "name": "python3"
  },
  "language_info": {
   "codemirror_mode": {
    "name": "ipython",
    "version": 3
   },
   "file_extension": ".py",
   "mimetype": "text/x-python",
   "name": "python",
   "nbconvert_exporter": "python",
   "pygments_lexer": "ipython3",
   "version": "3.10.11"
  }
 },
 "nbformat": 4,
 "nbformat_minor": 5
}
